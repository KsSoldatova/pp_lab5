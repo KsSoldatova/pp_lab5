{
 "cells": [
  {
   "cell_type": "code",
   "execution_count": 1,
   "metadata": {},
   "outputs": [],
   "source": [
    "import os\n",
    "import glob\n",
    "import random\n",
    "\n",
    "import torch\n",
    "import torch.nn as nn\n",
    "import torch\n",
    "import torch.optim as optim\n",
    "import torch.nn.functional as F\n",
    "\n",
    "from torchvision import datasets, models, transforms\n",
    "from torch.utils.data import DataLoader, Dataset\n",
    "\n",
    "from sklearn.model_selection import train_test_split\n",
    "\n",
    "import numpy as np\n",
    "import pandas as pd\n",
    "import matplotlib.pyplot as plt\n",
    "import cv2\n",
    "\n",
    "\n",
    "learning_rate = 0.001\n",
    "batch_size = 10\n",
    "epochs = 10\n",
    "\n",
    "device = 'cuda' if torch.cuda.is_available() else 'cpu'\n",
    "\n",
    "torch.manual_seed(1234)\n",
    "if device =='cuda':\n",
    "    torch.cuda.manual_seed_all(1234)"
   ]
  },
  {
   "cell_type": "code",
   "execution_count": 2,
   "metadata": {},
   "outputs": [],
   "source": [
    "train_path = \"C:\\\\Users\\\\kssol\\\\PycharmProjects\\\\pp_lab5\\\\train\"\n",
    "test_path = \"C:\\\\Users\\\\kssol\\\\PycharmProjects\\\\pp_lab5\\\\test\"\n",
    "val_path = \"C:\\\\Users\\\\kssol\\\\PycharmProjects\\\\pp_lab5\\\\val\"\n",
    "\n",
    "path1 = \"C:\\\\Users\\\\kssol\\\\PycharmProjects\\\\pp_lab5\\\\annotation_rose.csv\"\n",
    "path2 = \"C:\\\\Users\\\\kssol\\\\PycharmProjects\\\\pp_lab5\\\\annotation_tulip.csv\"\n",
    "dfs = []\n",
    "tmp = pd.read_csv(path1, sep=',', header=None, encoding='UTF-16') \n",
    "dfs.append(tmp)\n",
    "tmp = pd.read_csv(path2, sep=',', header=None, encoding='UTF-16')\n",
    "dfs.append(tmp)\n",
    "df = pd.concat(dfs)\n",
    "df.drop(1, axis=1, inplace=True)\n",
    "df.rename(columns={0: 'absolute_way', 2: 'class_img'}, inplace=True)\n",
    "df.reset_index(inplace=True)\n",
    "\n",
    "\n",
    "if not os.path.isdir(train_path):\n",
    "    os.mkdir(train_path)\n",
    "\n",
    "if not os.path.isdir(test_path):\n",
    "    os.mkdir(test_path)\n",
    "\n",
    "if not os.path.isdir(val_path):\n",
    "    os.mkdir(val_path)"
   ]
  }
 ],
 "metadata": {
  "kernelspec": {
   "display_name": ".venv",
   "language": "python",
   "name": "python3"
  },
  "language_info": {
   "codemirror_mode": {
    "name": "ipython",
    "version": 3
   },
   "file_extension": ".py",
   "mimetype": "text/x-python",
   "name": "python",
   "nbconvert_exporter": "python",
   "pygments_lexer": "ipython3",
   "version": "3.10.9"
  },
  "orig_nbformat": 4,
  "vscode": {
   "interpreter": {
    "hash": "0de7f8e3c7afdc8bf0ea640156fbab885185d71838ed2044be9a4c1dc1b33e89"
   }
  }
 },
 "nbformat": 4,
 "nbformat_minor": 2
}
